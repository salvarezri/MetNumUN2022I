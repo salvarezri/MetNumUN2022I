{
  "cells": [
    {
      "cell_type": "markdown",
      "metadata": {
        "id": "view-in-github"
      },
      "source": [
        "<a href=\"https://colab.research.google.com/github/alopezbrz/MetNumUN22022I/blob/main/Lab%2010/alopezbrAlgorithmicToolboxWeek3SolvingNonLinearAlgebraicEquations.ipynb\" target=\"_parent\"><img src=\"https://colab.research.google.com/assets/colab-badge.svg\" alt=\"Open In Colab\"/></a>"
      ]
    },
    {
      "cell_type": "markdown",
      "metadata": {
        "id": "CLCQV-PpnCb5"
      },
      "source": [
        "# Part I. Root-finding. Newton's iteration."
      ]
    },
    {
      "cell_type": "markdown",
      "metadata": {
        "id": "entVbueMnCb8"
      },
      "source": [
        "Write a function which performs Newton's iteration for a given function $f(x)$ with known derivative $f'(x)$. Your function should find the root of $f(x)$ with a predefined absolute accuracy $\\epsilon$. "
      ]
    },
    {
      "cell_type": "code",
      "execution_count": 1,
      "metadata": {
        "collapsed": true,
        "id": "ENVB48VKnCb-"
      },
      "outputs": [],
      "source": [
        "def newton_iteration(f, fder, x0, eps=1e-5, maxiter=1000):\n",
        "    \"\"\"Find a root of $f(x) = 0$ via Newton's iteration starting from x0.\n",
        "    \n",
        "    Parameters\n",
        "    ----------\n",
        "    f : callable\n",
        "        The function to find a root of.\n",
        "    fder : callable\n",
        "        The derivative of `f`.\n",
        "    x0 : float\n",
        "        Initial value for the Newton's iteration.\n",
        "    eps : float\n",
        "        The target accuracy. \n",
        "        The iteration stops when the distance between successive iterates is below `eps`.\n",
        "        Default is 1e-5.\n",
        "    maxiter : int\n",
        "        The maximum number of iterations (default is 1000.)\n",
        "        Iterations terminate if the number of iterations exceeds `maxiter`.\n",
        "        This parameter is only needed to avoid infinite loops if iterations wander off.\n",
        "        \n",
        "    Returns\n",
        "    -------\n",
        "    x : float\n",
        "        The estimate for the root.\n",
        "    niter : int\n",
        "        The number of iterations.\n",
        "    \"\"\"\n",
        "    # ... ENTER YOUR CODE HERE ...\n",
        "\n",
        "    nx = x0 - f(x0) / fder(x0)\n",
        "    cont = 0\n",
        "    \n",
        "    while (abs(nx - x0) > eps): \n",
        "        x0 = nx\n",
        "        nx = x0 - f(x0) / fder(x0)\n",
        "        cont += 1 \n",
        "        \n",
        "        if cont > maxiter: \n",
        "            break\n",
        "    \n",
        "    return nx, cont"
      ]
    },
    {
      "cell_type": "markdown",
      "metadata": {
        "id": "7R1HjDWTnCcA"
      },
      "source": [
        "### Test I.1 \n",
        "\n",
        "Test your implementation on a simple example, $f(x) = x^2 - 1$ or similar. (20% of the total grade)"
      ]
    },
    {
      "cell_type": "code",
      "execution_count": 2,
      "metadata": {
        "collapsed": true,
        "id": "GLtBXaSanCcB",
        "colab": {
          "base_uri": "https://localhost:8080/"
        },
        "outputId": "59152ddc-1e5c-4482-f1de-cb91ef0d7a28"
      },
      "outputs": [
        {
          "output_type": "stream",
          "name": "stdout",
          "text": [
            "root: 1.0000000000149214\n",
            "iteration times: 7\n"
          ]
        }
      ],
      "source": [
        "# ... ENTER YOUR CODE HERE ...\n",
        "\n",
        "f = lambda x: x**2 - 1\n",
        "fder = lambda x: 2 * x\n",
        "\n",
        "root, cont = newton_iteration(f, fder, 0.05)\n",
        "print('root:', root)\n",
        "print('iteration times:', cont)"
      ]
    },
    {
      "cell_type": "markdown",
      "metadata": {
        "id": "nRTClnZxnCcB"
      },
      "source": [
        "### Test I.2\n",
        "\n",
        "Now consider a function which has a multiple root. Take $f(x) = (x^2 - 1)^2$ as an example. Implement a modified Newton's iteraion,\n",
        "\n",
        "$$\n",
        "x_{n+1} = x_{n} - m \\frac{f(x_n)}{f'(x_n)}\n",
        "$$\n",
        "\n",
        "and vary $m= 1, 2, 3, 4, 5$. Check the number of iterations required for convergence within a fixed $\\epsilon$. Are your observations consistent with the expectation that the convergence is quadratic is $m$ equals the multiplicity of the root, and is linear otherwise? (40% of the total grade)"
      ]
    },
    {
      "cell_type": "code",
      "execution_count": 3,
      "metadata": {
        "collapsed": true,
        "id": "5IwB75BsnCcC",
        "colab": {
          "base_uri": "https://localhost:8080/"
        },
        "outputId": "5ea3aa10-b39a-4518-9055-9c20bfa3449e"
      },
      "outputs": [
        {
          "output_type": "stream",
          "name": "stdout",
          "text": [
            "Root:0.09999999999999964  Iteration:1000\n"
          ]
        }
      ],
      "source": [
        "# ... ENTER YOUR CODE HERE ...\n",
        "\n",
        "def modified_newton_iteration(func, fder, fdder, m, x0, eps=1e-5, maxiter=1000):\n",
        "\n",
        "\n",
        "    def f(x):\n",
        "        f = eval(func)\n",
        "        return f\n",
        "    \n",
        "    def df(x):\n",
        "        df = eval(fder)\n",
        "        return df\n",
        "    \n",
        "    def ddf(x):\n",
        "        ddf = eval(fdder)\n",
        "        return ddf\n",
        "    \n",
        "    for niter in range (1, maxiter):\n",
        "        \n",
        "        deltax = - m*(f(x0) / df(x0))\n",
        "        x0 = x0 + deltax\n",
        "        x0 = x0\n",
        "        \n",
        "    print(f\"Root:{x0}  Iteration:{maxiter}\")\n",
        "    \n",
        "modified_newton_iteration(\"(x**2-1)**2\",\"2*(x**2-1)*(2*x)\",\"4*(3*x**2-1)\", 4, 10, eps=1e-5, maxiter=1000)"
      ]
    },
    {
      "cell_type": "code",
      "source": [
        "modified_newton_iteration(\"(x**2-1)**2\",\"2*(x**2-1)*(2*x)\",\"4*(3*x**2-1)\", 1, 10, eps=1e-5, maxiter=1000)\n",
        "\n",
        "modified_newton_iteration(\"(x**2-1)**2\",\"2*(x**2-1)*(2*x)\",\"4*(3*x**2-1)\", 5, 10, eps=1e-5, maxiter=1000)"
      ],
      "metadata": {
        "colab": {
          "base_uri": "https://localhost:8080/"
        },
        "id": "7wOVLHyC96VT",
        "outputId": "a9384410-dc00-4079-89a1-d0fad717ac58"
      },
      "execution_count": 4,
      "outputs": [
        {
          "output_type": "stream",
          "name": "stdout",
          "text": [
            "Root:1.0000000000000002  Iteration:1000\n",
            "Root:-6.7688238823126  Iteration:1000\n"
          ]
        }
      ]
    },
    {
      "cell_type": "markdown",
      "metadata": {
        "id": "XAUzpTBrnCcE"
      },
      "source": [
        "# Part II. Fixed-point iteration"
      ]
    },
    {
      "cell_type": "markdown",
      "metadata": {
        "id": "eQQ4CFtfnCcE"
      },
      "source": [
        "Consider the following equation:\n",
        "\n",
        "$$\n",
        "\\sqrt{x} = \\cos{x}\n",
        "$$\n",
        "\n",
        "Plot the left-hand side and right-hand side of this equation, and localize the root graphically. Estimate the location of the root by visual inspection of the plot.\n",
        "\n",
        "Write a function which finds the solution using fixed-point iteration up to a predefined accuracy $\\epsilon$. Compare the result to an estimate from a visual inspection.\n",
        "\n",
        "Next, rewrite the fixed-point problem in the form\n",
        "\n",
        "$$\n",
        "x = x - \\alpha f(x)\n",
        "$$\n",
        "\n",
        "where $\\alpha$ is the free parameter. Check the dependence of the number of iterations required for a given $\\epsilon$ on $\\alpha$. Compare your results to an expectation that the optimal value of $\\alpha$ is given by \n",
        "\n",
        "$$\n",
        "\\alpha = \\frac{2}{m + M}\n",
        "$$\n",
        "\n",
        "where $0 < m < |f'(x)| < M$ over the localization interval. (40% of the total grade)"
      ]
    },
    {
      "cell_type": "code",
      "execution_count": 5,
      "metadata": {
        "collapsed": true,
        "id": "lfAwx_QanCcG",
        "colab": {
          "base_uri": "https://localhost:8080/",
          "height": 282
        },
        "outputId": "e3ce4123-0348-4537-d31e-a1c60ee513cd"
      },
      "outputs": [
        {
          "output_type": "execute_result",
          "data": {
            "text/plain": [
              "<matplotlib.legend.Legend at 0x7f980110f150>"
            ]
          },
          "metadata": {},
          "execution_count": 5
        },
        {
          "output_type": "display_data",
          "data": {
            "text/plain": [
              "<Figure size 432x288 with 1 Axes>"
            ],
            "image/png": "[encoded data removed]"
          },
          "metadata": {
            "needs_background": "light"
          }
        }
      ],
      "source": [
        "# ... ENTER YOUR CODE HERE ...\n",
        "import numpy as np\n",
        "import matplotlib.pyplot as plt\n",
        "\n",
        "\n",
        "x = np.linspace(0.1, 5, 200)\n",
        "\n",
        "plt.plot(x, np.sqrt(x), label='sqrt')\n",
        "plt.plot(x, np.cos(x), label='cos')\n",
        "\n",
        "plt.legend()"
      ]
    },
    {
      "cell_type": "code",
      "source": [
        "f = lambda x: np.sqrt(x) - np.cos(x)\n",
        "fder = lambda x: 1 / (2 * np.sqrt(x)) - np.sin(x)\n",
        "\n",
        "x = np.linspace(0.1, 1, 200)\n",
        "\n",
        "plt.plot(x, fder(x), label='derivative of f')\n",
        "plt.legend()"
      ],
      "metadata": {
        "colab": {
          "base_uri": "https://localhost:8080/",
          "height": 282
        },
        "id": "HQKIhvuI4vWh",
        "outputId": "1d100920-11d4-41e1-e620-63cc62ee7b09"
      },
      "execution_count": 6,
      "outputs": [
        {
          "output_type": "execute_result",
          "data": {
            "text/plain": [
              "<matplotlib.legend.Legend at 0x7f980108e450>"
            ]
          },
          "metadata": {},
          "execution_count": 6
        },
        {
          "output_type": "display_data",
          "data": {
            "text/plain": [
              "<Figure size 432x288 with 1 Axes>"
            ],
            "image/png": "[encoded data removed]"
          },
          "metadata": {
            "needs_background": "light"
          }
        }
      ]
    },
    {
      "cell_type": "code",
      "source": [
        "def newton_iteration_fixed_poinit(f, fder, x0, alpha, eps=1e-5, maxiter=1000):\n",
        "    \n",
        "    nx = x0 - alpha * f(x0)\n",
        "    cont = 0\n",
        "    \n",
        "    while (abs(nx - x0) > eps): \n",
        "        x0 = nx\n",
        "        nx = x0 - alpha * f(x0)\n",
        "        cont += 1 \n",
        "        \n",
        "        if cont > maxiter: \n",
        "            nx = 'Nan'\n",
        "            break\n",
        "    \n",
        "    return nx, cont"
      ],
      "metadata": {
        "id": "g2qOQxWL5aRW"
      },
      "execution_count": 7,
      "outputs": []
    },
    {
      "cell_type": "code",
      "source": [
        "\n",
        "x0 = 2 / 3\n",
        "\n",
        "for i in [0.1, 0.5, 1, 1.5]: \n",
        "    root, cont = newton_iteration_fixed_poinit(f, fder, x0, i)\n",
        "    print(i,',', root,',', cont)\n"
      ],
      "metadata": {
        "colab": {
          "base_uri": "https://localhost:8080/"
        },
        "id": "b_ymVQN16CMr",
        "outputId": "d864b86e-eafd-447e-9e2e-5419f7f2aa26"
      },
      "execution_count": 8,
      "outputs": [
        {
          "output_type": "stream",
          "name": "stdout",
          "text": [
            "0.1 , 0.6417846268333629 , 44\n",
            "0.5 , 0.6417193751949732 , 8\n",
            "1 , 0.6417136823927276 , 6\n",
            "1.5 , 0.6417185143046147 , 47\n"
          ]
        }
      ]
    },
    {
      "cell_type": "markdown",
      "metadata": {
        "id": "M1URuyNpnCcH"
      },
      "source": [
        "# Part III. Newton's fractal.\n",
        "\n",
        "(Not graded). \n",
        "\n",
        "Consider the equation\n",
        "\n",
        "$$\n",
        "x^3 = 1\n",
        "$$\n",
        "\n",
        "It has three solutions in the complex plane, $x_k = \\exp(i\\, 2\\pi k/ 3)$, $k = 0, 1, 2$.\n",
        "\n",
        "The Newton's iterations converge to one of these solutions, depending on the starting point in the complex plane (to converge to a complex-valued solution, the iteration needs a complex-valued starting point).\n",
        "\n",
        "Plot the \\emph{basins of attraction} of these roots on the complex plane of $x$ (i.e., on the plane $\\mathrm{Re}x$ -- $\\mathrm{Im}x$). To this end, make a series of calculations, varying the initial conditions on a grid of points. \n",
        "Color the grid in three colors, according to the root, to which iterations converged."
      ]
    },
    {
      "cell_type": "code",
      "execution_count": 9,
      "metadata": {
        "collapsed": true,
        "id": "KXIFUUx2nCcH"
      },
      "outputs": [],
      "source": [
        "import cmath\n",
        "\n",
        "def newton_frac(x0):\n",
        "    \n",
        "    eps=1e-5\n",
        "    maxiter=1000\n",
        "    nx = x0 - (x0**3-1)/3*x0**2\n",
        "    cont = x0\n",
        "    \n",
        "    for _ in range(maxiter):\n",
        "        if(abs(nx-cont)<=eps):\n",
        "            break\n",
        "        if(abs(nx-cont)>1e2):\n",
        "            return 0\n",
        "        cont = nx\n",
        "        nx = nx - (nx**3-1)/3*nx**2\n",
        "        \n",
        "    if abs(nx-cmath.exp(complex(0,2*np.pi*1/3)))<abs(nx-cmath.exp(complex(0,2*np.pi*2/3))):\n",
        "        return 1\n",
        "    else :\n",
        "        return 2"
      ]
    },
    {
      "cell_type": "code",
      "source": [
        "x = np.linspace(-1.5, 1.5, 200)\n",
        "y = np.linspace(-1.5, 1.5, 200)\n",
        "\n",
        "for x0 in x:\n",
        "    for y0 in y:\n",
        "        fr = newton_frac(complex(x0,y0))\n",
        "        if fr==1:\n",
        "            plt.plot(x0, y0, marker='o', markersize=3, color='red')\n",
        "        elif fr==2:\n",
        "            plt.plot(x0, y0, marker='o', markersize=3, color='blue')\n",
        "        \n",
        "roots_x = []\n",
        "roots_y = []\n",
        "for i in range(3):\n",
        "    z = cmath.exp(complex(0,2*np.pi*i/3))\n",
        "    roots_x.append(z.real)\n",
        "    roots_y.append(z.imag)\n",
        "\n",
        "plt.scatter(roots_x, roots_y, c='g')\n",
        "plt.show()"
      ],
      "metadata": {
        "colab": {
          "base_uri": "https://localhost:8080/",
          "height": 265
        },
        "id": "IUpEUJF48JJJ",
        "outputId": "c6b5040a-07c2-40d7-9d74-5e4996bb04a0"
      },
      "execution_count": 12,
      "outputs": [
        {
          "output_type": "display_data",
          "data": {
            "text/plain": [
              "<Figure size 432x288 with 1 Axes>"
            ],
            "image/png": "[encoded data removed]"
          },
          "metadata": {
            "needs_background": "light"
          }
        }
      ]
    }
  ],
  "metadata": {
    "kernelspec": {
      "display_name": "Python 3",
      "language": "python",
      "name": "python3"
    },
    "language_info": {
      "codemirror_mode": {
        "name": "ipython",
        "version": 3
      },
      "file_extension": ".py",
      "mimetype": "text/x-python",
      "name": "python",
      "nbconvert_exporter": "python",
      "pygments_lexer": "ipython3",
      "version": "3.5.2"
    },
    "colab": {
      "name": "salvarezriAlgorithmicToolboxWeek3SolvingNonLinearAlgebraicEquations.ipynb",
      "provenance": [],
      "collapsed_sections": []
    }
  },
  "nbformat": 4,
  "nbformat_minor": 0
}