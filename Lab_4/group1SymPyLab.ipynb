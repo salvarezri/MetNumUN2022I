{
  "nbformat": 4,
  "nbformat_minor": 0,
  "metadata": {
    "colab": {
      "name": "group1SymPyLab.ipynb",
      "provenance": [],
      "collapsed_sections": []
    },
    "kernelspec": {
      "name": "python3",
      "display_name": "Python 3"
    }
  },
  "cells": [
    {
      "cell_type": "markdown",
      "metadata": {
        "id": "vtY1shFnMal_"
      },
      "source": [
        "# SymPyLab\n",
        "\n",
        "SymPy’s documentation\n",
        "- https://docs.sympy.org/latest/index.html\n"
      ]
    },
    {
      "cell_type": "markdown",
      "metadata": {
        "id": "2U0fAIf5G4rR"
      },
      "source": [
        "## SymPy’s polynomials \n",
        "- https://docs.sympy.org/latest/modules/polys/basics.html#polynomials \n",
        "\n",
        "$$ P_n(x) =  a_n x^n + a_{n-1} x^{n-1} + a_{n-2} x^{n-2} +\\cdots +  a_1 x  + a_0$$\n",
        "\n",
        "$$P_n(x) = 0 $$\n",
        "\n",
        "$$a_n x^n + a_{n-1} x^{n-1} + a_{n-2} x^{n-2} +\\cdots +  a_1 x  + a_0 = 0$$\n",
        "\n",
        "$$(x-r_1) Q_{n-1}(x) = P_n(x)$$\n",
        "$$(x-r_1) (x - r_2) Q_{n-2}(x) = P_n(x)$$\n",
        "$$ \\vdots $$\n",
        "\n",
        "- (x-1)(x-8)(x-4)(x-4)(x-20)(x+5)(x+13)(x+3)(x-9)(x-10) = x^10 - 35 x^9 + 172 x^8 + 5598 x^7 - 69291 x^6 + 91965 x^5 + 1959518 x^4 - 7523128 x^3 - 6858400 x^2 + 57321600 x - 44928000\n",
        "\n",
        "- (x-1)(x-8)(x-4)(x-4)(x-20)(x+5)(x+13)(x+3)(x-9)(x-10) / (x-1) = x^9 - 34 x^8 + 138 x^7 + 5736 x^6 - 63555 x^5 + 28410 x^4 + 1987928 x^3 - 5535200 x^2 - 12393600 x + 44928000 (ignoring removable singularities)"
      ]
    },
    {
      "cell_type": "markdown",
      "metadata": {
        "id": "GSRpl42A6UXg"
      },
      "source": [
        "<img src=\"https://github.com/jsuarezra/MetNumUN2022I/blob/main/Lab4/Assets/SmpLabWolfram1.png?raw=true\" /> <img src=\"https://github.com/jsuarezra/MetNumUN2022I/blob/main/Lab4/Assets/SmpLabWolfram2.png?raw=true\" />\n"
      ]
    },
    {
      "cell_type": "code",
      "metadata": {
        "id": "Fw1yPZWLMb5P",
        "colab": {
          "base_uri": "https://localhost:8080/"
        },
        "outputId": "16d5a5d6-adf7-4955-f6a8-3ee9b9d2b50a"
      },
      "source": [
        "from sympy import Symbol\n",
        "from sympy import div\n",
        "\n",
        "x = Symbol('x')\n",
        "\n",
        "p =  x**10 - 35*x**9 + 172*x**8 + 5598*x**7 - 69291*x**6 + 91965*x**5 + 1959518*x**4 - 7523128*x**3 - 6858400*x**2 + 57321600*x - 44928000\n",
        "##(x-1)(x-8)(x-4)(x-4)(x-20)(x+5)(x+13)(x+3)(x-9)(x-10)\n",
        "\n",
        "p, r = div(p,  x-1)\n",
        "\n",
        "print(p)\n",
        "print(r)\n",
        "\n",
        "p, r = div(p,  x-8)\n",
        "\n",
        "print(p)\n",
        "print(r)\n",
        "\n",
        "p, r = div(p,  x-4)\n",
        "\n",
        "print(p)\n",
        "print(r)\n",
        "\n",
        "p, r = div(p,  x-4)\n",
        "\n",
        "print(p)\n",
        "print(r)\n",
        "\n",
        "p, r = div(p,  x-20)\n",
        "\n",
        "print(p)\n",
        "print(r)\n",
        "\n",
        "\n",
        "p, r = div(p,  x+5)\n",
        "\n",
        "print(p)\n",
        "print(r)\n",
        "\n",
        "\n",
        "p, r = div(p,  x+13)\n",
        "\n",
        "print(p)\n",
        "print(r)\n",
        "\n",
        "\n",
        "p, r = div(p,  x-4)\n",
        "\n",
        "print(p)\n",
        "print(r)\n",
        "\n",
        "\n",
        "p, r = div(p,  x-4)\n",
        "\n",
        "print(p)\n",
        "print(r)\n",
        "\n",
        "\n",
        "p, r = div(p,  x-4)\n",
        "\n",
        "print(p)\n",
        "print(r)\n",
        "\n",
        "\n"
      ],
      "execution_count": null,
      "outputs": [
        {
          "output_type": "stream",
          "name": "stdout",
          "text": [
            "x**4 - 14*x**3 + 71*x**2 - 154*x + 120\n",
            "0\n",
            "x**3 - 12*x**2 + 47*x - 60\n",
            "0\n",
            "x**2 - 9*x + 20\n",
            "0\n",
            "x - 5\n",
            "0\n"
          ]
        }
      ]
    },
    {
      "cell_type": "code",
      "metadata": {
        "colab": {
          "base_uri": "https://localhost:8080/"
        },
        "id": "gQ-VwywTarYw",
        "outputId": "554af333-6177-466b-d536-2686514dce07"
      },
      "source": [
        "p =  x**10 - 35*x**9 + 172*x**8 + 5598*x**7 - 69291*x**6 + 91965*x**5 + 1959518*x**4 - 7523128*x**3 - 6858400*x**2 + 57321600*x - 44928000\n",
        "\n",
        "p, r = div(p,  x-6)\n",
        "\n",
        "print(p)\n",
        "print(r)"
      ],
      "execution_count": null,
      "outputs": [
        {
          "output_type": "stream",
          "name": "stdout",
          "text": [
            "x**4 - 9*x**3 + 31*x**2 - 39*x + 40\n",
            "120\n"
          ]
        }
      ]
    },
    {
      "cell_type": "markdown",
      "metadata": {
        "id": "2NPChCoPLsls"
      },
      "source": [
        "<img src=\"https://github.com/jsuarezra/MetNumUN2022I/blob/main/Lab4/Assets/SmpLabWolfram3.png?raw=true\" />\n",
        "\n"
      ]
    },
    {
      "cell_type": "code",
      "metadata": {
        "id": "i2vHjXOIKvQu",
        "colab": {
          "base_uri": "https://localhost:8080/",
          "height": 39
        },
        "outputId": "52e02bbe-8361-4ccd-c853-44cb286266d7"
      },
      "source": [
        "from sympy import Symbol,factor\n",
        "x = Symbol('x')\n",
        "factor(x**5 - 15*x**4  + 85*x**3 - 225*x**2 + 274*x - 120)"
      ],
      "execution_count": null,
      "outputs": [
        {
          "output_type": "execute_result",
          "data": {
            "text/latex": "$\\displaystyle \\left(x - 5\\right) \\left(x - 4\\right) \\left(x - 3\\right) \\left(x - 2\\right) \\left(x - 1\\right)$",
            "text/plain": [
              "(x - 5)*(x - 4)*(x - 3)*(x - 2)*(x - 1)"
            ]
          },
          "metadata": {},
          "execution_count": 3
        }
      ]
    },
    {
      "cell_type": "markdown",
      "metadata": {
        "id": "LrP1xT6VKZrE"
      },
      "source": [
        "## SymPy’s polynomial simple univariate polynomial factorization\n",
        "- https://docs.sympy.org/latest/modules/polys/wester.html#simple-univariate-polynomial-factorization\n",
        "\n",
        "- factor(x\\*\\*10 - 35\\*x\\*\\*9 + 172\\*x\\*\\*8 + 5598\\*x\\*\\*7 - 69291\\*x\\*\\*6 + 91965\\*x\\*\\*5 + 1959518\\*x\\*\\*4 - 7523128\\*x\\*\\*3 - 6858400\\*x\\*\\*2 + 57321600\\*x - 44928000)"
      ]
    },
    {
      "cell_type": "markdown",
      "metadata": {
        "id": "xoq8A5ipMdRa"
      },
      "source": [
        "## SymPy’s solvers\n",
        "- https://docs.sympy.org/latest/tutorial/solvers.html\n",
        "- x\\*\\*5 - 15\\*x\\*\\*4  + 85\\*x\\*\\* 3 - 225\\*x\\*\\* 2 + 274\\*x - 120 = 0"
      ]
    },
    {
      "cell_type": "markdown",
      "metadata": {
        "id": "UpEjlqXZMk8i"
      },
      "source": [
        "<img src=\"https://github.com/jsuarezra/MetNumUN2022I/blob/main/Lab4/Assets/SmpLabWolfram4.png?raw=true\" />\n"
      ]
    },
    {
      "cell_type": "code",
      "metadata": {
        "id": "DLzUsS8YMlNK",
        "colab": {
          "base_uri": "https://localhost:8080/",
          "height": 37
        },
        "outputId": "cd5bde9d-538d-4979-f748-6e6434b99aae"
      },
      "source": [
        "from sympy import Symbol, solveset, Eq\n",
        "x = Symbol('x')\n",
        "solveset(Eq(x**5 - 15*x**4  + 85*x**3 - 225*x**2 + 274*x - 120, 0), x)\n"
      ],
      "execution_count": null,
      "outputs": [
        {
          "output_type": "execute_result",
          "data": {
            "text/latex": "$\\displaystyle \\left\\{1, 2, 3, 4, 5\\right\\}$",
            "text/plain": [
              "FiniteSet(1, 2, 3, 4, 5)"
            ]
          },
          "metadata": {},
          "execution_count": 4
        }
      ]
    },
    {
      "cell_type": "markdown",
      "source": [
        "<img src=\"https://github.com/jtorreshmetnum/MetNumUN2022I/blob/main/lab4/e%5Ex.png?raw=true\" />\n"
      ],
      "metadata": {
        "id": "pi7rUwG472tc"
      }
    },
    {
      "cell_type": "code",
      "metadata": {
        "colab": {
          "base_uri": "https://localhost:8080/",
          "height": 39
        },
        "id": "ALzYmizCcXvv",
        "outputId": "beca86c8-04d9-4a77-80ae-e7780732666c"
      },
      "source": [
        "from sympy import Symbol, solveset, Eq, sqrt,exp, pi,sin\n",
        "x = Symbol('x')\n",
        "solveset(Eq(x**2 + (exp(x))*x +x+ (sin(x))+pi , 0), x)\n"
      ],
      "execution_count": null,
      "outputs": [
        {
          "output_type": "execute_result",
          "data": {
            "text/plain": [
              "ConditionSet(x, Eq(x**2 + x*exp(x) + x + sin(x) + pi, 0), Complexes)"
            ],
            "text/latex": "$\\displaystyle \\left\\{x \\mid x \\in \\mathbb{C} \\wedge x^{2} + x e^{x} + x + \\sin{\\left(x \\right)} + \\pi = 0 \\right\\}$"
          },
          "metadata": {},
          "execution_count": 1
        }
      ]
    },
    {
      "cell_type": "markdown",
      "metadata": {
        "id": "kw48-B_Z_vQc"
      },
      "source": [
        "*   Reference docs for the Poly Domains https://docs.sympy.org/dev/modules/polys/domainsref.html\n",
        "\n",
        "*   Introducing the Domains of the poly module https://docs.sympy.org/dev/modules/polys/domainsintro.html\n",
        "\n",
        "*   Internals of the Polynomial Manipulation Module https://docs.sympy.org/latest/modules/polys/internals.html"
      ]
    },
    {
      "cell_type": "markdown",
      "source": [
        "<img src=\"https://github.com/jsuarezra/MetNumUN2022I/blob/main/Lab4/Assets/SmpLabWolfram5.png?raw=true\" />"
      ],
      "metadata": {
        "id": "G4hb9Ak_-ujE"
      }
    },
    {
      "cell_type": "code",
      "source": [
        "from sympy import Symbol,factor\n",
        "x = Symbol('x')\n",
        "factor(x**10 + 6*x**9 - 8*x**8 + 4*x**7 +54*x**6 + 2*x**5 - 2*x**4  - x**3 + 8*x**2 - 10*x - 54,domain='GF(2)')"
      ],
      "metadata": {
        "colab": {
          "base_uri": "https://localhost:8080/",
          "height": 38
        },
        "id": "EdK4Tfz0-dLW",
        "outputId": "255ab7de-a3a3-4610-a7e2-62f47cf22592"
      },
      "execution_count": null,
      "outputs": [
        {
          "output_type": "execute_result",
          "data": {
            "text/plain": [
              "x**3*(x + 1)*(x**3 + x + 1)*(x**3 + x**2 + 1)"
            ],
            "text/latex": "$\\displaystyle x^{3} \\left(x + 1\\right) \\left(x^{3} + x + 1\\right) \\left(x^{3} + x^{2} + 1\\right)$"
          },
          "metadata": {},
          "execution_count": 1
        }
      ]
    },
    {
      "cell_type": "markdown",
      "metadata": {
        "id": "OtsxSwPmV3Vs"
      },
      "source": [
        "## SymPy’s Symbolic and Numercical Complex Evaluations\n",
        "- https://docs.sympy.org/latest/modules/evalf.html](https://)\n",
        "- a = a1 + I\\*a2,b = b1 + I\\*b2, c = c1 + I\\*c2, a\\*b\\*c"
      ]
    },
    {
      "cell_type": "markdown",
      "metadata": {
        "id": "XxWt-AcaZxdp"
      },
      "source": [
        "<img src=\"https://raw.githubusercontent.com/gjhernandezp/NM/main/SymPyLab/sympylabwolfram7.jpg\" />"
      ]
    },
    {
      "cell_type": "code",
      "metadata": {
        "id": "ENDQbfLGV31r",
        "colab": {
          "base_uri": "https://localhost:8080/"
        },
        "outputId": "ce0dcaf0-0777-48a4-aa82-ad8206247e51"
      },
      "source": [
        "from sympy import symbols, I, N, pi, expand\n",
        "a1, a2, b1, b2, c1, c2 = symbols(\"a1 a2 b1 b2 c1 c2\", real=True)  \n",
        "a = a1 + I*a2\n",
        "b = b1 + I*b2\n",
        "c = c1 + I*c2\n",
        "\n",
        "print(a*b*c)\n",
        "print(expand(a*b*c))\n",
        "print(expand((a+b)*c))\n",
        "print(expand(a*(b*c)))\n",
        "\n",
        "w=N(1/(pi + I), 20)\n",
        "print('w=',w)"
      ],
      "execution_count": null,
      "outputs": [
        {
          "output_type": "stream",
          "name": "stdout",
          "text": [
            "(x1 + I*x2)*(y1 + I*y2)*(z1 + I*z2)\n",
            "x1*y1*z1 + I*x1*y1*z2 + I*x1*y2*z1 - x1*y2*z2 + I*x2*y1*z1 - x2*y1*z2 - x2*y2*z1 - I*x2*y2*z2\n",
            "x1*y1*z1 + I*x1*y1*z2 + I*x1*y2*z1 - x1*y2*z2 + I*x2*y1*z1 - x2*y1*z2 - x2*y2*z1 - I*x2*y2*z2\n",
            "x1*y1*z1 + I*x1*y1*z2 + I*x1*y2*z1 - x1*y2*z2 + I*x2*y1*z1 - x2*y1*z2 - x2*y2*z1 - I*x2*y2*z2\n",
            "w= 0.28902548222223624241 - 0.091999668350375232456*I\n"
          ]
        }
      ]
    },
    {
      "cell_type": "markdown",
      "metadata": {
        "id": "eaqIgmnkPNVT"
      },
      "source": [
        "## Wolfram alpha answers quastion in natural languaje\n",
        "- What is the square root of pi?\n",
        "\n",
        "<img src=\"https://github.com/jsuarezra/MetNumUN2022I/blob/main/Lab4/Assets/SmpLabWolfram6.png?raw=true\" />"
      ]
    },
    {
      "cell_type": "markdown",
      "source": [
        "## SymPy’s integrate\n",
        "\n",
        "<img src=\"https://github.com/salvarezri/MetNumUN2022I/blob/main/Lab_4/integrate.png?raw=true\" />\n",
        "\n"
      ],
      "metadata": {
        "id": "FIbSSOvEC8R0"
      }
    },
    {
      "cell_type": "code",
      "source": [
        "from sympy import Symbol, integrate, sin\n",
        "x = Symbol('x')\n",
        "integrate(x**3+(x*sin(x)**3) - 90, x)"
      ],
      "metadata": {
        "colab": {
          "base_uri": "https://localhost:8080/",
          "height": 55
        },
        "id": "p5wwxfa7BtzU",
        "outputId": "80dacf7b-93ff-4e29-869b-eec4962ad139"
      },
      "execution_count": null,
      "outputs": [
        {
          "output_type": "execute_result",
          "data": {
            "text/plain": [
              "x**4/4 - x*sin(x)**2*cos(x) - 2*x*cos(x)**3/3 - 90*x + 7*sin(x)**3/9 + 2*sin(x)*cos(x)**2/3"
            ],
            "text/latex": "$\\displaystyle \\frac{x^{4}}{4} - x \\sin^{2}{\\left(x \\right)} \\cos{\\left(x \\right)} - \\frac{2 x \\cos^{3}{\\left(x \\right)}}{3} - 90 x + \\frac{7 \\sin^{3}{\\left(x \\right)}}{9} + \\frac{2 \\sin{\\left(x \\right)} \\cos^{2}{\\left(x \\right)}}{3}$"
          },
          "metadata": {},
          "execution_count": 2
        }
      ]
    },
    {
      "cell_type": "markdown",
      "source": [
        "<img src=\"https://github.com/jsuarezra/MetNumUN2022I/blob/main/Lab4/Assets/SmpLabWolfram7.png?raw=true\" />"
      ],
      "metadata": {
        "id": "JkW8LPxbD2Eq"
      }
    },
    {
      "cell_type": "code",
      "source": [
        "from sympy import Symbol, integrate, sin\n",
        "x = Symbol('x')\n",
        "integrate(x**3+(x*sin(x)**3) - 90, (x,-1,8))\n"
      ],
      "metadata": {
        "colab": {
          "base_uri": "https://localhost:8080/",
          "height": 89
        },
        "id": "EoipdE0UD7Aa",
        "outputId": "6f69841c-c121-4db3-850a-cded85582463"
      },
      "execution_count": null,
      "outputs": [
        {
          "output_type": "execute_result",
          "data": {
            "text/plain": [
              "-sin(1)**2*cos(1) - 2*cos(1)**3/3 + 2*sin(8)*cos(8)**2/3 - 16*cos(8)**3/3 + 2*sin(1)*cos(1)**2/3 + 7*sin(1)**3/9 + 7*sin(8)**3/9 - 8*sin(8)**2*cos(8) + 855/4"
            ],
            "text/latex": "$\\displaystyle - \\sin^{2}{\\left(1 \\right)} \\cos{\\left(1 \\right)} - \\frac{2 \\cos^{3}{\\left(1 \\right)}}{3} + \\frac{2 \\sin{\\left(8 \\right)} \\cos^{2}{\\left(8 \\right)}}{3} - \\frac{16 \\cos^{3}{\\left(8 \\right)}}{3} + \\frac{2 \\sin{\\left(1 \\right)} \\cos^{2}{\\left(1 \\right)}}{3} + \\frac{7 \\sin^{3}{\\left(1 \\right)}}{9} + \\frac{7 \\sin^{3}{\\left(8 \\right)}}{9} - 8 \\sin^{2}{\\left(8 \\right)} \\cos{\\left(8 \\right)} + \\frac{855}{4}$"
          },
          "metadata": {},
          "execution_count": 2
        }
      ]
    },
    {
      "cell_type": "code",
      "source": [
        "from sympy import Symbol, integrate, sin, N\n",
        "x = Symbol('x')\n",
        "N(integrate(x**3+(x*sin(x)**3) - 90, (x,-1,8)))\n"
      ],
      "metadata": {
        "colab": {
          "base_uri": "https://localhost:8080/",
          "height": 37
        },
        "id": "rFRmuWfnEPWb",
        "outputId": "8bb44a62-1168-4561-f0aa-fd69101ec6cc"
      },
      "execution_count": null,
      "outputs": [
        {
          "output_type": "execute_result",
          "data": {
            "text/plain": [
              "215.812416981475"
            ],
            "text/latex": "$\\displaystyle 215.812416981475$"
          },
          "metadata": {},
          "execution_count": 3
        }
      ]
    }
  ]
}