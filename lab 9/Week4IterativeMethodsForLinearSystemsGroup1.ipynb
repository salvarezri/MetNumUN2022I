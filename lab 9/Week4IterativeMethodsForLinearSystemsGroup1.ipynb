{
  "cells": [
    {
      "cell_type": "markdown",
      "metadata": {
        "id": "view-in-github"
      },
      "source": [
        "<a href=\"https://colab.research.google.com/github/matgonzalez23/MetNumUN2022I/blob/main/Lab_9/Week4IterativeMethodsForLinearSystemsGroup7.ipynb\" target=\"_parent\"><img src=\"https://colab.research.google.com/assets/colab-badge.svg\" alt=\"Open In Colab\"/></a>"
      ]
    },
    {
      "cell_type": "markdown",
      "source": [
        "\n",
        "\n",
        "<h1>Grupo 1</h1>\n",
        "<ul>\n",
        "<li> <h3>Santiago Alvarez Ricardo</h3> </li>\n",
        "<li> <h3>Juan Sebastian Torres</h3> </li>\n",
        "<li> <h3>Juan Sebastian Suarez</h3> </li>\n",
        "\n"
      ],
      "metadata": {
        "id": "RJ6-u6R22qVF"
      }
    },
    {
      "cell_type": "markdown",
      "metadata": {
        "id": "64mcz4cd2hU7"
      },
      "source": [
        "# Simple iteration for systems of linear equations"
      ]
    },
    {
      "cell_type": "markdown",
      "metadata": {
        "id": "eIkydUXq2hU-"
      },
      "source": [
        "First, generate a random diagonally dominant matrix, for testing."
      ]
    },
    {
      "cell_type": "code",
      "execution_count": 1,
      "metadata": {
        "id": "smXxpLOM2hU_"
      },
      "outputs": [],
      "source": [
        "import numpy as np\n",
        "rndm = np.random.RandomState(7860)\n",
        "\n",
        "n = 10\n",
        "A = rndm.uniform(size=(n, n)) + np.diagflat([15]*n)\n",
        "b = rndm.uniform(size=n)"
      ]
    },
    {
      "cell_type": "markdown",
      "metadata": {
        "id": "brMXhYVc2hVA"
      },
      "source": [
        "# I.  Jacobi iteration\n",
        "\n",
        "Given\n",
        "\n",
        "$$\n",
        "A x = b\n",
        "$$\n",
        "\n",
        "separate the diagonal part $D$,\n",
        "\n",
        "$$ A = D + (A - D) $$\n",
        "\n",
        "and write\n",
        "\n",
        "$$\n",
        "x = D^{-1} (D - A) x + D^{-1} b\\;.\n",
        "$$\n",
        "\n",
        "Then iterate\n",
        "\n",
        "$$\n",
        "x_{n + 1} = B x_{n} + c\\;,\n",
        "$$\n",
        "\n",
        "where \n",
        "\n",
        "$$\n",
        "B = D^{-1} (A - D) \\qquad \\text{and} \\qquad c = D^{-1} b\n",
        "$$\n"
      ]
    },
    {
      "cell_type": "markdown",
      "metadata": {
        "id": "O4Gxg78J2hVB"
      },
      "source": [
        "Let's construct the matrix and the r.h.s. for the Jacobi iteration"
      ]
    },
    {
      "cell_type": "code",
      "execution_count": 2,
      "metadata": {
        "id": "snzwTxOD2hVB"
      },
      "outputs": [],
      "source": [
        "diag_1d = np.diag(A)\n",
        "\n",
        "B = -A.copy()\n",
        "np.fill_diagonal(B, 0)\n",
        "\n",
        "D = np.diag(diag_1d)\n",
        "invD = np.diag(1./diag_1d)\n",
        "BB = invD @ B \n",
        "c = invD @ b"
      ]
    },
    {
      "cell_type": "code",
      "execution_count": 3,
      "metadata": {
        "id": "wmifw-Ze2hVB"
      },
      "outputs": [],
      "source": [
        "# sanity checks\n",
        "from numpy.testing import assert_allclose\n",
        "\n",
        "assert_allclose(-B + D, A)\n",
        "\n",
        "\n",
        "# xx is a \"ground truth\" solution, compute it using a direct method\n",
        "xx = np.linalg.solve(A, b)\n",
        "\n",
        "np.testing.assert_allclose(A@xx, b)\n",
        "np.testing.assert_allclose(D@xx, B@xx + b)\n",
        "np.testing.assert_allclose(xx, BB@xx + c)"
      ]
    },
    {
      "cell_type": "markdown",
      "metadata": {
        "id": "OzG1mJuP2hVC"
      },
      "source": [
        "Check that $\\| B\\| \\leqslant 1$:"
      ]
    },
    {
      "cell_type": "code",
      "execution_count": 4,
      "metadata": {
        "colab": {
          "base_uri": "https://localhost:8080/"
        },
        "id": "yOVV05Z82hVC",
        "outputId": "33f80133-56ba-4f77-d6eb-0a6aed8f2018"
      },
      "outputs": [
        {
          "output_type": "execute_result",
          "data": {
            "text/plain": [
              "0.3412295173697629"
            ]
          },
          "metadata": {},
          "execution_count": 4
        }
      ],
      "source": [
        "np.linalg.norm(BB)"
      ]
    },
    {
      "cell_type": "markdown",
      "metadata": {
        "id": "0mWn3hob2hVD"
      },
      "source": [
        "### Do the Jacobi iteration"
      ]
    },
    {
      "cell_type": "code",
      "execution_count": 5,
      "metadata": {
        "id": "l1p9SbjF2hVE"
      },
      "outputs": [],
      "source": [
        "n_iter = 50\n",
        "\n",
        "x0 = np.ones(n)\n",
        "x = x0\n",
        "for _ in range(n_iter):\n",
        "    x = BB @ x + c"
      ]
    },
    {
      "cell_type": "code",
      "execution_count": 6,
      "metadata": {
        "colab": {
          "base_uri": "https://localhost:8080/"
        },
        "id": "vqIGkp8X2hVE",
        "outputId": "330a4d19-a9bf-4e1d-d931-c1b6ce20aec0"
      },
      "outputs": [
        {
          "output_type": "execute_result",
          "data": {
            "text/plain": [
              "array([ 0.00000000e+00,  0.00000000e+00,  5.55111512e-17,  0.00000000e+00,\n",
              "       -1.38777878e-17,  0.00000000e+00,  0.00000000e+00, -1.11022302e-16,\n",
              "        1.11022302e-16,  0.00000000e+00])"
            ]
          },
          "metadata": {},
          "execution_count": 6
        }
      ],
      "source": [
        "# Check the result:\n",
        "\n",
        "A @ x - b"
      ]
    },
    {
      "cell_type": "markdown",
      "metadata": {
        "id": "S737a55d2hVE"
      },
      "source": [
        "### Task I.1\n",
        "\n",
        "Collect the proof-of-concept above into a single function implementing the Jacobi iteration. This function should receive the r.h.s. matrix $A$, the l.h.s. vector `b`, and the number of iterations to perform.\n",
        "\n",
        "\n",
        "The matrix $A$ in the illustration above is strongly diagonally dominant, by construction. \n",
        "What happens if the diagonal matrix elements of $A$ are made smaller? Check the convergence of the Jacobi iteration, and check the value of the norm of $B$.\n",
        "\n",
        "(20% of the total grade)\n"
      ]
    },
    {
      "cell_type": "code",
      "execution_count": 7,
      "metadata": {
        "id": "fGQl_i1O2hVF"
      },
      "outputs": [],
      "source": [
        "def Jacobi_iteration(A, b, eps = 1e-7, n_iter = 50):\n",
        "    \n",
        "    diag_1d = np.diag(A)\n",
        "    B = -A.copy()\n",
        "    np.fill_diagonal(B, 0)\n",
        "    invD = np.diag(1./diag_1d)\n",
        "    BB = invD @ B \n",
        "    c = invD @ b\n",
        "    \n",
        "    x = np.ones(n)\n",
        "    for _ in range(n_iter):\n",
        "        x = BB @ x + c\n",
        "    return x"
      ]
    },
    {
      "cell_type": "code",
      "execution_count": 8,
      "metadata": {
        "colab": {
          "base_uri": "https://localhost:8080/"
        },
        "id": "YheFFQ3Z2hVF",
        "outputId": "cd3148fb-ee96-4ad7-bb2f-72d74b485f15"
      },
      "outputs": [
        {
          "output_type": "stream",
          "name": "stdout",
          "text": [
            "[ 0.04709667  0.04637916  0.01896904  0.02649428 -0.0072363   0.04783264\n",
            "  0.05148203  0.0480632   0.04103157 -0.00139149]\n"
          ]
        }
      ],
      "source": [
        "x = Jacobi_iteration(A, b)\n",
        "print(x)\n",
        "\n",
        "np.testing.assert_allclose(A@x, b)\n",
        "np.testing.assert_allclose(x, xx)"
      ]
    },
    {
      "cell_type": "code",
      "execution_count": 9,
      "metadata": {
        "colab": {
          "base_uri": "https://localhost:8080/"
        },
        "id": "pxEiy4rn2hVG",
        "outputId": "2f28a82e-7296-4cd5-fe5b-aa2706253682"
      },
      "outputs": [
        {
          "output_type": "stream",
          "name": "stdout",
          "text": [
            "0.3649436955565377 2.5272843339497796e-17\n",
            "0.392202757062319 1.4726004136889805e-17\n",
            "0.4238664775089971 3.440048942762026e-17\n",
            "0.46109741381493485 3.2650150334626576e-17\n",
            "0.5055072154826658 4.2571471319696836e-17\n",
            "0.5593969721171765 1.297800416734946e-16\n",
            "0.6261706848142661 2.9826139540701476e-14\n",
            "0.7110875006701638 1.698052662699032e-11\n",
            "0.8227286178703906 2.4426088884358968e-08\n",
            "0.9761229877685789 0.00012224667098061605\n",
            "1.2002403115370013 3.5845739482506396\n",
            "1.559193183042101 1576734.3508510473\n",
            "2.2297334447100097 75912927672484.08\n",
            "3.956249174421963 1.1348387282713009e+26\n",
            "24.799704005206664 5.702468898356118e+61\n"
          ]
        }
      ],
      "source": [
        "for k in range(1, 16):\n",
        "    A1 = A + np.diagflat([-k]*n)\n",
        "    print(np.linalg.norm(np.diag(1./np.diag(A1))@(-A1.copy()+np.diag(np.diag(A1)))),\n",
        "          np.linalg.norm(Jacobi_iteration(A1, b)-np.linalg.solve(A1, b)))\n",
        "    "
      ]
    },
    {
      "cell_type": "markdown",
      "metadata": {
        "id": "65t40l-82hVG"
      },
      "source": [
        "# II. Seidel's iteration."
      ]
    },
    {
      "cell_type": "markdown",
      "metadata": {
        "id": "r4ZIPWnA2hVH"
      },
      "source": [
        "##### Task II.1\n",
        "\n",
        "Implement the Seidel's iteration. \n",
        "\n",
        "Test it on a random matrix. Study the convergence of iterations, relate to the norm of the iteration matrix.\n",
        "\n",
        "(30% of the total grade)"
      ]
    },
    {
      "cell_type": "code",
      "execution_count": 10,
      "metadata": {
        "id": "-IHqGxyZ2hVH"
      },
      "outputs": [],
      "source": [
        "def seidel_iteration(A, b, eps = 1e-7, n_iter = 50):\n",
        "    x = np.ones(b.shape[0])\n",
        "    \n",
        "    for _ in range(n_iter):\n",
        "        for k in range(b.shape[0]):\n",
        "              x[k] = (b[k]-np.dot(A[k][:k], x[:k])- np.dot(A[k][k+1:], x[k+1:]))/A[k,k]\n",
        "    return x"
      ]
    },
    {
      "cell_type": "code",
      "execution_count": 11,
      "metadata": {
        "id": "QlcKRuZp2hVH"
      },
      "outputs": [],
      "source": [
        "x = seidel_iteration(A,b)\n",
        "\n",
        "np.testing.assert_allclose(A@x, b)\n",
        "np.testing.assert_allclose(x, xx)"
      ]
    },
    {
      "cell_type": "code",
      "execution_count": 12,
      "metadata": {
        "colab": {
          "base_uri": "https://localhost:8080/"
        },
        "id": "zSOwLG_v2hVI",
        "outputId": "381a9c59-e699-4d94-ceb6-ef84777dff08"
      },
      "outputs": [
        {
          "output_type": "stream",
          "name": "stdout",
          "text": [
            "0.3649436955565377 2.7097246932071044e-17\n",
            "0.392202757062319 1.1317325853115499e-17\n",
            "0.4238664775089971 2.893662274657725e-17\n",
            "0.46109741381493485 3.2139234526580756e-17\n",
            "0.5055072154826658 4.6805398318361535e-17\n",
            "0.5593969721171765 4.473434455583162e-17\n",
            "0.6261706848142661 2.8025315438821013e-17\n",
            "0.7110875006701638 4.4565853017184997e-17\n",
            "0.8227286178703906 5.679729445007588e-17\n",
            "0.9761229877685789 4.2712612100832585e-17\n",
            "1.2002403115370013 1.0049799730474779e-16\n",
            "1.559193183042101 1.4033044459902308e-16\n",
            "2.2297334447100097 1.8729795718427684e-16\n",
            "3.956249174421963 0.00024282655825824537\n",
            "24.799704005206664 1.2252142582332306e+126\n"
          ]
        }
      ],
      "source": [
        "for k in range(1, 16):\n",
        "    A1 = A + np.diagflat([-k]*n)\n",
        "    print(np.linalg.norm(np.diag(1./np.diag(A1))@(-A1.copy()+np.diag(np.diag(A1)))),\n",
        "          np.linalg.norm(seidel_iteration(A1, b)-np.linalg.solve(A1, b)))"
      ]
    },
    {
      "cell_type": "markdown",
      "metadata": {
        "id": "raFVZjsb2hVI"
      },
      "source": [
        "# III. Minimum residual scheme"
      ]
    },
    {
      "cell_type": "markdown",
      "metadata": {
        "id": "o8akOCBA2hVJ"
      },
      "source": [
        "### Task III.1\n",
        "\n",
        "Implement the $\\textit{minimum residual}$ scheme: an explicit non-stationary method, where at each step you select the iteration parameter $\\tau_n$ to minimize the residual $\\mathbf{r}_{n+1}$ given $\\mathbf{r}_n$. Test it on a random matrix, study the convergence to the solution, in terms of the norm of the residual and the deviation from the ground truth solution (which you can obtain using a direct method). Study how the iteration parameter $\\tau_n$ changes as iterations progress.\n",
        "\n",
        "(50% of the grade)"
      ]
    },
    {
      "cell_type": "code",
      "execution_count": 13,
      "metadata": {
        "id": "vl8G1z782hVJ"
      },
      "outputs": [],
      "source": [
        "def minimum_res_scheme(A, b, eps = 1e-7, n_iter = 50):\n",
        "    x = np.ones(b.shape[0])\n",
        "    \n",
        "    for _ in range(n_iter):\n",
        "        r = A @ x - b\n",
        "        k = (r @ A @ r)/np.linalg.norm(A @ r)**2\n",
        "        x = x - k*r\n",
        "        \n",
        "    return x"
      ]
    },
    {
      "cell_type": "code",
      "execution_count": 14,
      "metadata": {
        "id": "D784owEO2hVJ"
      },
      "outputs": [],
      "source": [
        "x = minimum_res_scheme(A,b)\n",
        "\n",
        "np.testing.assert_allclose(A@x, b)\n",
        "np.testing.assert_allclose(x, xx)"
      ]
    },
    {
      "cell_type": "code",
      "execution_count": 15,
      "metadata": {
        "colab": {
          "base_uri": "https://localhost:8080/"
        },
        "id": "apdAfyOS2hVK",
        "outputId": "d10f7093-d7c5-4c28-be46-ac8062dba869"
      },
      "outputs": [
        {
          "output_type": "stream",
          "name": "stdout",
          "text": [
            "0.3649436955565377 nan\n",
            "0.392202757062319 1.2695817633565476e-17\n",
            "0.4238664775089971 3.929062510380681e-17\n",
            "0.46109741381493485 3.2788109330792944e-17\n",
            "0.5055072154826658 2.949029909160572e-17\n",
            "0.5593969721171765 3.82033216616167e-17\n",
            "0.6261706848142661 4.45996022480856e-17\n",
            "0.7110875006701638 5.605063087764203e-17\n",
            "0.8227286178703906 3.756787906405246e-17\n",
            "0.9761229877685789 nan\n",
            "1.2002403115370013 9.20711736692975e-17\n",
            "1.559193183042101 7.52414185906026e-16\n",
            "2.2297334447100097 1.965518723746668e-11\n",
            "3.956249174421963 0.0007253197462527024\n",
            "24.799704005206664 43.57313797883575\n"
          ]
        },
        {
          "output_type": "stream",
          "name": "stderr",
          "text": [
            "/usr/local/lib/python3.7/dist-packages/ipykernel_launcher.py:6: RuntimeWarning: invalid value encountered in double_scalars\n",
            "  \n"
          ]
        }
      ],
      "source": [
        "for k in range(1, 16):\n",
        "    A1 = A + np.diagflat([-k]*n)\n",
        "    print(np.linalg.norm(np.diag(1./np.diag(A1))@(-A1.copy()+np.diag(np.diag(A1)))),\n",
        "          np.linalg.norm(minimum_res_scheme(A1, b)-np.linalg.solve(A1, b)))"
      ]
    }
  ],
  "metadata": {
    "kernelspec": {
      "display_name": "Python 3",
      "language": "python",
      "name": "python3"
    },
    "language_info": {
      "codemirror_mode": {
        "name": "ipython",
        "version": 3
      },
      "file_extension": ".py",
      "mimetype": "text/x-python",
      "name": "python",
      "nbconvert_exporter": "python",
      "pygments_lexer": "ipython3",
      "version": "3.7.4"
    },
    "colab": {
      "name": "Week4IterativeMethodsForLinearSystemsGroup1.ipynb",
      "provenance": [],
      "collapsed_sections": []
    }
  },
  "nbformat": 4,
  "nbformat_minor": 0
}